{
 "cells": [
  {
   "cell_type": "markdown",
   "metadata": {
    "toc": true
   },
   "source": [
    "<h1>Table of Contents<span class=\"tocSkip\"></span></h1>\n",
    "<div class=\"toc\"><ul class=\"toc-item\"></ul></div>"
   ]
  },
  {
   "cell_type": "code",
   "execution_count": 1,
   "metadata": {},
   "outputs": [],
   "source": [
    "# load dslib\n",
    "DSLIB_HOME = '../../datasetslib/'\n",
    "import sys\n",
    "if not DSLIB_HOME in sys.path:\n",
    "    sys.path.append(DSLIB_HOME)\n",
    "%reload_ext autoreload\n",
    "%autoreload 2\n",
    "import datasetslib as dslib\n",
    "\n",
    "# set the datasets root folder before you do the datasetslib import\n",
    "import os\n",
    "dslib.dsroot = os.path.join(os.path.expanduser('~'),'datasets')\n",
    "\n",
    "from datasetslib.util import imutil\n",
    "from datasetslib.util import nputil\n",
    "from datasetslib.mnist import MNIST"
   ]
  },
  {
   "cell_type": "code",
   "execution_count": 2,
   "metadata": {},
   "outputs": [],
   "source": [
    "# create an object of class datasetslib.mnist.MNIST\n",
    "mnist=MNIST()"
   ]
  },
  {
   "cell_type": "code",
   "execution_count": 3,
   "metadata": {},
   "outputs": [],
   "source": [
    "# remove existing mnist folder if it exists\n",
    "mnist.remove_home()"
   ]
  },
  {
   "cell_type": "code",
   "execution_count": 4,
   "metadata": {
    "scrolled": false
   },
   "outputs": [
    {
     "name": "stdout",
     "output_type": "stream",
     "text": [
      "Downloading: http://yann.lecun.com/exdb/mnist/train-images-idx3-ubyte.gz\n",
      "Downloaded : /home/armando/datasets/mnist/train-images-idx3-ubyte.gz ( 9912422 bytes)\n",
      "Downloading: http://yann.lecun.com/exdb/mnist/train-labels-idx1-ubyte.gz\n",
      "Downloaded : /home/armando/datasets/mnist/train-labels-idx1-ubyte.gz ( 28881 bytes)\n",
      "Downloading: http://yann.lecun.com/exdb/mnist/t10k-images-idx3-ubyte.gz\n",
      "Downloaded : /home/armando/datasets/mnist/t10k-images-idx3-ubyte.gz ( 1648877 bytes)\n",
      "Downloading: http://yann.lecun.com/exdb/mnist/t10k-labels-idx1-ubyte.gz\n",
      "Downloaded : /home/armando/datasets/mnist/t10k-labels-idx1-ubyte.gz ( 4542 bytes)\n",
      "Extracting and rearchiving as jpg files...\n",
      "/home/armando/datasets/mnist/train-images-idx3-ubyte.gz\n",
      "Reading from  /home/armando/datasets/mnist/train-images-idx3-ubyte.gz\n",
      "Reading from  /home/armando/datasets/mnist/train-labels-idx1-ubyte.gz\n",
      "Saving  train\n",
      "Zipping  train\n",
      "/home/armando/datasets/mnist/train-images-idx3-ubyte.gz\n",
      "Reading from  /home/armando/datasets/mnist/t10k-images-idx3-ubyte.gz\n",
      "Reading from  /home/armando/datasets/mnist/t10k-labels-idx1-ubyte.gz\n",
      "Saving  test\n",
      "Zipping  test\n",
      "Loading in x and y... start\n",
      "Loading in x and y... done\n",
      "Loaded x and y\n",
      "Train: x:(60000, 784), y:(60000,)\n",
      "Test: x:(10000, 784), y:(10000,)\n"
     ]
    }
   ],
   "source": [
    "# load images in x and labels in y for train and test sets\n",
    "mnist.y_onehot = False\n",
    "\n",
    "x_train,y_train,x_test,y_test=mnist.load_data(x_as_image=True)\n",
    "\n",
    "#x_train = mnist.load_images(x_train)\n",
    "#y_train = nputil.onehot(y_train)\n",
    "#x_test = mnist.load_images(x_test)\n",
    "#y_test = nputil.onehot(y_test)\n",
    "\n",
    "print('Loaded x and y')\n",
    "print('Train: x:{}, y:{}'.format(x_train.shape,y_train.shape))\n",
    "print('Test: x:{}, y:{}'.format(x_test.shape,y_test.shape))"
   ]
  },
  {
   "cell_type": "code",
   "execution_count": 5,
   "metadata": {},
   "outputs": [
    {
     "name": "stdout",
     "output_type": "stream",
     "text": [
      "\n"
     ]
    },
    {
     "data": {
      "image/png": "[encoded data removed]",
      "text/plain": [
       "<Figure size 432x288 with 10 Axes>"
      ]
     },
     "metadata": {
      "needs_background": "light"
     },
     "output_type": "display_data"
    }
   ],
   "source": [
    "mnist.display(part='train')"
   ]
  },
  {
   "cell_type": "code",
   "execution_count": null,
   "metadata": {},
   "outputs": [],
   "source": []
  }
 ],
 "metadata": {
  "kernelspec": {
   "display_name": "Python 3",
   "language": "python",
   "name": "python3"
  },
  "language_info": {
   "codemirror_mode": {
    "name": "ipython",
    "version": 3
   },
   "file_extension": ".py",
   "mimetype": "text/x-python",
   "name": "python",
   "nbconvert_exporter": "python",
   "pygments_lexer": "ipython3",
   "version": "3.6.8"
  },
  "toc": {
   "base_numbering": 1.0,
   "nav_menu": {},
   "number_sections": true,
   "sideBar": true,
   "skip_h1_title": true,
   "title_cell": "Table of Contents",
   "title_sidebar": "Contents",
   "toc_cell": true,
   "toc_position": {},
   "toc_section_display": true,
   "toc_window_display": true
  }
 },
 "nbformat": 4,
 "nbformat_minor": 2
}
